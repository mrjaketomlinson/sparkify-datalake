{
 "cells": [
  {
   "cell_type": "code",
   "execution_count": 1,
   "metadata": {
    "editable": true
   },
   "outputs": [],
   "source": [
    "import configparser\n",
    "from datetime import datetime\n",
    "import os\n",
    "from pyspark.sql import SparkSession\n",
    "from pyspark.sql.types import StructType as R, StructField as Fld, DoubleType as Dbl, StringType as Str, IntegerType as Int, DateType as Date, TimestampType as Ts\n",
    "from pyspark.sql.functions import udf, col\n",
    "from pyspark.sql.functions import year, month, dayofmonth, hour, weekofyear, date_format"
   ]
  },
  {
   "cell_type": "code",
   "execution_count": 2,
   "metadata": {
    "editable": true
   },
   "outputs": [],
   "source": [
    "config = configparser.ConfigParser()\n",
    "config.read('dl.cfg')\n",
    "\n",
    "os.environ['AWS_ACCESS_KEY_ID'] = config['AWS']['AWS_ACCESS_KEY_ID']\n",
    "os.environ['AWS_SECRET_ACCESS_KEY'] = config['AWS']['AWS_SECRET_ACCESS_KEY']"
   ]
  },
  {
   "cell_type": "code",
   "execution_count": 3,
   "metadata": {
    "editable": true
   },
   "outputs": [],
   "source": [
    "def create_spark_session():\n",
    "    spark = SparkSession \\\n",
    "        .builder \\\n",
    "        .config('spark.jars.packages', 'org.apache.hadoop:hadoop-aws:2.7.0') \\\n",
    "        .getOrCreate()\n",
    "    return spark"
   ]
  },
  {
   "cell_type": "code",
   "execution_count": 4,
   "metadata": {
    "editable": true
   },
   "outputs": [],
   "source": [
    "input_data = 's3a://udacity-dend/'"
   ]
  },
  {
   "cell_type": "code",
   "execution_count": 5,
   "metadata": {
    "editable": true
   },
   "outputs": [
    {
     "data": {
      "text/html": [
       "\n",
       "            <div>\n",
       "                <p><b>SparkSession - in-memory</b></p>\n",
       "                \n",
       "        <div>\n",
       "            <p><b>SparkContext</b></p>\n",
       "\n",
       "            <p><a href=\"http://e78022904e04:4040\">Spark UI</a></p>\n",
       "\n",
       "            <dl>\n",
       "              <dt>Version</dt>\n",
       "                <dd><code>v2.4.3</code></dd>\n",
       "              <dt>Master</dt>\n",
       "                <dd><code>local[*]</code></dd>\n",
       "              <dt>AppName</dt>\n",
       "                <dd><code>pyspark-shell</code></dd>\n",
       "            </dl>\n",
       "        </div>\n",
       "        \n",
       "            </div>\n",
       "        "
      ],
      "text/plain": [
       "<pyspark.sql.session.SparkSession at 0x7fd3a9055390>"
      ]
     },
     "execution_count": 5,
     "metadata": {},
     "output_type": "execute_result"
    }
   ],
   "source": [
    "spark = create_spark_session()\n",
    "spark"
   ]
  },
  {
   "cell_type": "code",
   "execution_count": 8,
   "metadata": {
    "editable": true
   },
   "outputs": [],
   "source": [
    "song_data = f'{input_data}song_data/A/A/A/'\n",
    "    \n",
    "# read song data file\n",
    "song_df = spark.read.json(song_data)\n",
    "\n",
    "# extract columns to create songs table\n",
    "songs_table = song_df.select(['song_id', 'title', 'artist_id', 'year', 'duration'])\n",
    "\n",
    "# extract columns to create artists table\n",
    "artists_table = song_df.select(['artist_id', 'artist_name', 'artist_location', 'artist_latitude', 'artist_longitude'])"
   ]
  },
  {
   "cell_type": "code",
   "execution_count": 10,
   "metadata": {
    "editable": true
   },
   "outputs": [
    {
     "ename": "AttributeError",
     "evalue": "'str' object has no attribute 'alias'",
     "output_type": "error",
     "traceback": [
      "\u001b[0;31m---------------------------------------------------------------------------\u001b[0m",
      "\u001b[0;31mAttributeError\u001b[0m                            Traceback (most recent call last)",
      "\u001b[0;32m<ipython-input-10-581ebbe5535a>\u001b[0m in \u001b[0;36m<module>\u001b[0;34m()\u001b[0m\n\u001b[1;32m     20\u001b[0m \u001b[0;31m# extract columns to create time table\u001b[0m\u001b[0;34m\u001b[0m\u001b[0;34m\u001b[0m\u001b[0m\n\u001b[1;32m     21\u001b[0m time_table = log_df.select(\n\u001b[0;32m---> 22\u001b[0;31m     \u001b[0;34m'datetime'\u001b[0m\u001b[0;34m.\u001b[0m\u001b[0malias\u001b[0m\u001b[0;34m(\u001b[0m\u001b[0;34m'start_time'\u001b[0m\u001b[0;34m)\u001b[0m\u001b[0;34m,\u001b[0m\u001b[0;34m\u001b[0m\u001b[0m\n\u001b[0m\u001b[1;32m     23\u001b[0m     \u001b[0mhour\u001b[0m\u001b[0;34m(\u001b[0m\u001b[0;34m'datetime'\u001b[0m\u001b[0;34m)\u001b[0m\u001b[0;34m.\u001b[0m\u001b[0malias\u001b[0m\u001b[0;34m(\u001b[0m\u001b[0;34m'hour'\u001b[0m\u001b[0;34m)\u001b[0m\u001b[0;34m,\u001b[0m\u001b[0;34m\u001b[0m\u001b[0m\n\u001b[1;32m     24\u001b[0m     \u001b[0mdayofmonth\u001b[0m\u001b[0;34m(\u001b[0m\u001b[0;34m'datetime'\u001b[0m\u001b[0;34m)\u001b[0m\u001b[0;34m.\u001b[0m\u001b[0malias\u001b[0m\u001b[0;34m(\u001b[0m\u001b[0;34m'day'\u001b[0m\u001b[0;34m)\u001b[0m\u001b[0;34m,\u001b[0m\u001b[0;34m\u001b[0m\u001b[0m\n",
      "\u001b[0;31mAttributeError\u001b[0m: 'str' object has no attribute 'alias'"
     ]
    }
   ],
   "source": [
    "log_data = f'{input_data}log_data/2018/11/'\n",
    "\n",
    "# read log data file\n",
    "log_df = spark.read.json(log_data)\n",
    "\n",
    "# filter by actions for song plays\n",
    "log_df = log_df.where(log_df.page == 'NextSong')\n",
    "\n",
    "# extract columns for users table    \n",
    "users_table = log_df.selectExpr('userId as user_id', 'firstName as first_name', 'lastName as last_name', 'gender', 'level').dropDuplicates()\n",
    "\n",
    "# create timestamp column from original timestamp column\n",
    "get_timestamp = udf(lambda x: x/1000, Int())\n",
    "log_df = log_df.withColumn('timestamp', get_timestamp(log_df.ts))\n",
    "\n",
    "# create datetime column from original timestamp column\n",
    "get_datetime = udf(lambda x: datetime.fromtimestamp(x), Ts())\n",
    "log_df = log_df.withColumn('datetime', get_datetime(log_df.timestamp))\n",
    "\n",
    "# extract columns to create time table\n",
    "time_table = log_df.select(\n",
    "    col('datetime').alias('start_time'),\n",
    "    hour('datetime').alias('hour'),\n",
    "    dayofmonth('datetime').alias('day'),\n",
    "    weekofyear('datetime').alias('week'), \n",
    "    month('datetime').alias('month'),\n",
    "    year('datetime').alias('year'),\n",
    "    date_format('datetime', 'E').alias('weekday')\n",
    ")"
   ]
  },
  {
   "cell_type": "code",
   "execution_count": 11,
   "metadata": {
    "editable": true
   },
   "outputs": [],
   "source": [
    "time_table = log_df.select(\n",
    "    col('datetime').alias('start_time'),\n",
    "    hour('datetime').alias('hour'),\n",
    "    dayofmonth('datetime').alias('day'),\n",
    "    weekofyear('datetime').alias('week'), \n",
    "    month('datetime').alias('month'),\n",
    "    year('datetime').alias('year'),\n",
    "    date_format('datetime', 'E').alias('weekday')\n",
    ")"
   ]
  },
  {
   "cell_type": "code",
   "execution_count": 14,
   "metadata": {
    "editable": true
   },
   "outputs": [
    {
     "data": {
      "text/plain": [
       "[Row(song_id='SOAFBCP12A8C13CC7D', title='King Of Scurf (2007 Digital Remaster)', artist_id='ARTC1LV1187B9A4858', year=1972, duration=301.40036),\n",
       " Row(song_id='SOKTJDS12AF72A25E5', title='Drown In My Own Tears (24-Bit Digitally Remastered 04)', artist_id='ARA23XO1187B9AF18F', year=0, duration=192.522),\n",
       " Row(song_id='SOEKAZG12AB018837E', title=\"I'll Slap Your Face (Entertainment USA Theme)\", artist_id='ARSVTNL1187B992A91', year=2001, duration=129.85424),\n",
       " Row(song_id='SOQPWCR12A6D4FB2A3', title='A Poor Recipe For Civic Cohesion', artist_id='AR73AIO1187B9AD57B', year=2005, duration=118.07302),\n",
       " Row(song_id='SOBRKGM12A8C139EF6', title='Welcome to the Pleasuredome', artist_id='ARXQBR11187B98A2CC', year=1985, duration=821.05424)]"
      ]
     },
     "execution_count": 14,
     "metadata": {},
     "output_type": "execute_result"
    }
   ],
   "source": [
    "songs_table.take(5)"
   ]
  },
  {
   "cell_type": "code",
   "execution_count": 15,
   "metadata": {
    "editable": true
   },
   "outputs": [
    {
     "data": {
      "text/plain": [
       "[Row(artist_id='ARTC1LV1187B9A4858', artist_name='The Bonzo Dog Band', artist_location=\"Goldsmith's College, Lewisham, Lo\", artist_latitude=51.4536, artist_longitude=-0.01802),\n",
       " Row(artist_id='ARA23XO1187B9AF18F', artist_name='The Smithereens', artist_location='Carteret, New Jersey', artist_latitude=40.57885, artist_longitude=-74.21956),\n",
       " Row(artist_id='ARSVTNL1187B992A91', artist_name='Jonathan King', artist_location='London, England', artist_latitude=51.50632, artist_longitude=-0.12714),\n",
       " Row(artist_id='AR73AIO1187B9AD57B', artist_name='Western Addiction', artist_location='San Francisco, CA', artist_latitude=37.77916, artist_longitude=-122.42005),\n",
       " Row(artist_id='ARXQBR11187B98A2CC', artist_name='Frankie Goes To Hollywood', artist_location='Liverpool, England', artist_latitude=None, artist_longitude=None)]"
      ]
     },
     "execution_count": 15,
     "metadata": {},
     "output_type": "execute_result"
    }
   ],
   "source": [
    "artists_table.take(5)"
   ]
  },
  {
   "cell_type": "code",
   "execution_count": 16,
   "metadata": {
    "editable": true
   },
   "outputs": [
    {
     "data": {
      "text/plain": [
       "[Row(user_id='26', first_name='Ryan', last_name='Smith', gender='M', level='free'),\n",
       " Row(user_id='7', first_name='Adelyn', last_name='Jordan', gender='F', level='free'),\n",
       " Row(user_id='71', first_name='Ayleen', last_name='Wise', gender='F', level='free'),\n",
       " Row(user_id='81', first_name='Sienna', last_name='Colon', gender='F', level='free'),\n",
       " Row(user_id='87', first_name='Dustin', last_name='Lee', gender='M', level='free')]"
      ]
     },
     "execution_count": 16,
     "metadata": {},
     "output_type": "execute_result"
    }
   ],
   "source": [
    "users_table.take(5)"
   ]
  },
  {
   "cell_type": "code",
   "execution_count": 17,
   "metadata": {
    "editable": true
   },
   "outputs": [
    {
     "data": {
      "text/plain": [
       "[Row(start_time=datetime.datetime(2018, 11, 15, 0, 30, 26, 796000), hour=0, day=15, week=46, month=11, year=2018, weekday='Thu'),\n",
       " Row(start_time=datetime.datetime(2018, 11, 15, 0, 41, 21, 796000), hour=0, day=15, week=46, month=11, year=2018, weekday='Thu'),\n",
       " Row(start_time=datetime.datetime(2018, 11, 15, 0, 45, 41, 796000), hour=0, day=15, week=46, month=11, year=2018, weekday='Thu'),\n",
       " Row(start_time=datetime.datetime(2018, 11, 15, 3, 44, 9, 796000), hour=3, day=15, week=46, month=11, year=2018, weekday='Thu'),\n",
       " Row(start_time=datetime.datetime(2018, 11, 15, 5, 48, 55, 796000), hour=5, day=15, week=46, month=11, year=2018, weekday='Thu')]"
      ]
     },
     "execution_count": 17,
     "metadata": {},
     "output_type": "execute_result"
    }
   ],
   "source": [
    "time_table.take(5)"
   ]
  },
  {
   "cell_type": "code",
   "execution_count": 22,
   "metadata": {
    "editable": true
   },
   "outputs": [],
   "source": [
    "from pyspark.sql.functions import row_number\n",
    "from pyspark.sql.window import Window"
   ]
  },
  {
   "cell_type": "code",
   "execution_count": 24,
   "metadata": {
    "editable": true
   },
   "outputs": [],
   "source": [
    "songplays_table = log_df.join(song_df, log_df.song == song_df.title, 'left')\\\n",
    "                    .select(\n",
    "                        row_number().over(Window.partitionBy().orderBy([log_df.datetime])).alias('songplay_id'), \n",
    "                        log_df.datetime.alias('start_time'),\n",
    "                        log_df.userId.alias('user_id'),\n",
    "                        log_df.level,\n",
    "                        song_df.song_id,\n",
    "                        song_df.artist_id,\n",
    "                        log_df.sessionId.alias('session_id'),\n",
    "                        log_df.location,\n",
    "                        log_df.userAgent.alias('user_agent')\n",
    "                    )"
   ]
  },
  {
   "cell_type": "code",
   "execution_count": 25,
   "metadata": {
    "editable": true
   },
   "outputs": [
    {
     "data": {
      "text/plain": [
       "[Row(songplay_id=1, start_time=datetime.datetime(2018, 11, 1, 21, 1, 46, 796000), user_id='8', level='free', song_id=None, artist_id=None, session_id=139, location='Phoenix-Mesa-Scottsdale, AZ', user_agent='\"Mozilla/5.0 (Windows NT 6.1; WOW64) AppleWebKit/537.36 (KHTML, like Gecko) Chrome/35.0.1916.153 Safari/537.36\"'),\n",
       " Row(songplay_id=2, start_time=datetime.datetime(2018, 11, 1, 21, 5, 52, 796000), user_id='8', level='free', song_id=None, artist_id=None, session_id=139, location='Phoenix-Mesa-Scottsdale, AZ', user_agent='\"Mozilla/5.0 (Windows NT 6.1; WOW64) AppleWebKit/537.36 (KHTML, like Gecko) Chrome/35.0.1916.153 Safari/537.36\"'),\n",
       " Row(songplay_id=3, start_time=datetime.datetime(2018, 11, 1, 21, 8, 16, 796000), user_id='8', level='free', song_id=None, artist_id=None, session_id=139, location='Phoenix-Mesa-Scottsdale, AZ', user_agent='\"Mozilla/5.0 (Windows NT 6.1; WOW64) AppleWebKit/537.36 (KHTML, like Gecko) Chrome/35.0.1916.153 Safari/537.36\"'),\n",
       " Row(songplay_id=4, start_time=datetime.datetime(2018, 11, 1, 21, 11, 13, 796000), user_id='8', level='free', song_id=None, artist_id=None, session_id=139, location='Phoenix-Mesa-Scottsdale, AZ', user_agent='\"Mozilla/5.0 (Windows NT 6.1; WOW64) AppleWebKit/537.36 (KHTML, like Gecko) Chrome/35.0.1916.153 Safari/537.36\"'),\n",
       " Row(songplay_id=5, start_time=datetime.datetime(2018, 11, 1, 21, 17, 33, 796000), user_id='8', level='free', song_id=None, artist_id=None, session_id=139, location='Phoenix-Mesa-Scottsdale, AZ', user_agent='\"Mozilla/5.0 (Windows NT 6.1; WOW64) AppleWebKit/537.36 (KHTML, like Gecko) Chrome/35.0.1916.153 Safari/537.36\"')]"
      ]
     },
     "execution_count": 25,
     "metadata": {},
     "output_type": "execute_result"
    }
   ],
   "source": [
    "songplays_table.take(5)"
   ]
  },
  {
   "cell_type": "code",
   "execution_count": null,
   "metadata": {
    "editable": true
   },
   "outputs": [],
   "source": [
    "# extract columns from joined song and log datasets to create songplays table \n",
    "songplays_table = 'x'\n",
    "#songplay_id (U), start_time (L), user_id (L), level (L), song_id (S), artist_id (S), session_id (L), location (L), user_agent (L)\n",
    "\n",
    "#{\"num_songs\": 1, \"artist_id\": \"ARJIE2Y1187B994AB7\", \"artist_latitude\": null, \"artist_longitude\": null, \"artist_location\": \"\", \"artist_name\": \"Line Renaud\", \"song_id\": \"SOUPIRU12A6D4FA1E1\", \"title\": \"Der Kleine Dompfaff\", \"duration\": 152.92036, \"year\": 0}\n",
    "#artist, auth, gender, level, firstName, lastName, length, location, method, page, registration, sessionId, song, status, ts, userAgent, userId"
   ]
  }
 ],
 "metadata": {
  "kernelspec": {
   "display_name": "Python 3",
   "language": "python",
   "name": "python3"
  },
  "language_info": {
   "codemirror_mode": {
    "name": "ipython",
    "version": 3
   },
   "file_extension": ".py",
   "mimetype": "text/x-python",
   "name": "python",
   "nbconvert_exporter": "python",
   "pygments_lexer": "ipython3",
   "version": "3.6.3"
  }
 },
 "nbformat": 4,
 "nbformat_minor": 4
}
